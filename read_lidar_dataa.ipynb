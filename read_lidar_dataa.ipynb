{
 "cells": [
  {
   "cell_type": "code",
   "execution_count": 1,
   "id": "d534f965-b314-47e2-b64f-f88040f1dbfe",
   "metadata": {},
   "outputs": [],
   "source": [
    "import numpy"
   ]
  },
  {
   "cell_type": "code",
   "execution_count": 7,
   "id": "84ce7931-9253-4b61-96ee-66fe019f5508",
   "metadata": {},
   "outputs": [],
   "source": [
    "a = numpy.load('data/camera_lidar/20180810_150607/lidar/cam_front_center/20180810150607_lidar_frontcenter_000000408/pcloud_attr.boundary.npy')"
   ]
  },
  {
   "cell_type": "code",
   "execution_count": 8,
   "id": "1dd79b8b-625b-4ae3-afbc-c5ea2486d7ed",
   "metadata": {},
   "outputs": [
    {
     "name": "stdout",
     "output_type": "stream",
     "text": [
      "[1 0 1 ... 1 0 0]\n"
     ]
    }
   ],
   "source": [
    "print(a)"
   ]
  },
  {
   "cell_type": "code",
   "execution_count": null,
   "id": "2d57a6f9-5034-4868-8444-5c2bfc85eac9",
   "metadata": {},
   "outputs": [],
   "source": []
  }
 ],
 "metadata": {
  "kernelspec": {
   "display_name": "Python 3 (ipykernel)",
   "language": "python",
   "name": "python3"
  },
  "language_info": {
   "codemirror_mode": {
    "name": "ipython",
    "version": 3
   },
   "file_extension": ".py",
   "mimetype": "text/x-python",
   "name": "python",
   "nbconvert_exporter": "python",
   "pygments_lexer": "ipython3",
   "version": "3.8.15"
  }
 },
 "nbformat": 4,
 "nbformat_minor": 5
}
