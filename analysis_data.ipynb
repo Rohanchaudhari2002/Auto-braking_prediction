{
 "cells": [
  {
   "cell_type": "code",
   "execution_count": 36,
   "id": "9760cc65-365d-4bf0-b0a3-5e1a538dfc00",
   "metadata": {},
   "outputs": [],
   "source": [
    "import pandas as pd\n",
    "import matplotlib.pyplot as plt\n",
    "import math"
   ]
  },
  {
   "cell_type": "code",
   "execution_count": 9,
   "id": "da7de1bd-057a-4f91-90a6-a37eb9e7b8d3",
   "metadata": {},
   "outputs": [],
   "source": [
    "data = pd.read_csv('final_data.csv')"
   ]
  },
  {
   "cell_type": "code",
   "execution_count": 10,
   "id": "e3f47417-dc30-4937-b3a0-f5f321aa0728",
   "metadata": {},
   "outputs": [
    {
     "data": {
      "text/html": [
       "<div>\n",
       "<style scoped>\n",
       "    .dataframe tbody tr th:only-of-type {\n",
       "        vertical-align: middle;\n",
       "    }\n",
       "\n",
       "    .dataframe tbody tr th {\n",
       "        vertical-align: top;\n",
       "    }\n",
       "\n",
       "    .dataframe thead th {\n",
       "        text-align: right;\n",
       "    }\n",
       "</style>\n",
       "<table border=\"1\" class=\"dataframe\">\n",
       "  <thead>\n",
       "    <tr style=\"text-align: right;\">\n",
       "      <th></th>\n",
       "      <th>Frame</th>\n",
       "      <th>Car ID</th>\n",
       "      <th>Speed (km/hr)</th>\n",
       "      <th>Heading Angle</th>\n",
       "      <th>Position X</th>\n",
       "      <th>Position Y</th>\n",
       "      <th>Pred X</th>\n",
       "      <th>Pred Y</th>\n",
       "      <th>Output</th>\n",
       "    </tr>\n",
       "  </thead>\n",
       "  <tbody>\n",
       "    <tr>\n",
       "      <th>count</th>\n",
       "      <td>2169.000000</td>\n",
       "      <td>2169.000000</td>\n",
       "      <td>2169.000000</td>\n",
       "      <td>2169.000000</td>\n",
       "      <td>2169.000000</td>\n",
       "      <td>2169.000000</td>\n",
       "      <td>2169.000000</td>\n",
       "      <td>2169.000000</td>\n",
       "      <td>2169.000000</td>\n",
       "    </tr>\n",
       "    <tr>\n",
       "      <th>mean</th>\n",
       "      <td>3106.305671</td>\n",
       "      <td>224.580913</td>\n",
       "      <td>43.662148</td>\n",
       "      <td>43.945366</td>\n",
       "      <td>426.427847</td>\n",
       "      <td>388.743430</td>\n",
       "      <td>426.483644</td>\n",
       "      <td>388.799227</td>\n",
       "      <td>0.108806</td>\n",
       "    </tr>\n",
       "    <tr>\n",
       "      <th>std</th>\n",
       "      <td>741.368537</td>\n",
       "      <td>61.000824</td>\n",
       "      <td>27.351339</td>\n",
       "      <td>111.159498</td>\n",
       "      <td>243.155208</td>\n",
       "      <td>19.650826</td>\n",
       "      <td>243.082113</td>\n",
       "      <td>20.077108</td>\n",
       "      <td>0.311467</td>\n",
       "    </tr>\n",
       "    <tr>\n",
       "      <th>min</th>\n",
       "      <td>1157.000000</td>\n",
       "      <td>47.000000</td>\n",
       "      <td>0.000000</td>\n",
       "      <td>-175.236358</td>\n",
       "      <td>17.500000</td>\n",
       "      <td>372.000000</td>\n",
       "      <td>12.651256</td>\n",
       "      <td>367.151256</td>\n",
       "      <td>0.000000</td>\n",
       "    </tr>\n",
       "    <tr>\n",
       "      <th>25%</th>\n",
       "      <td>2788.000000</td>\n",
       "      <td>225.000000</td>\n",
       "      <td>16.465591</td>\n",
       "      <td>0.000000</td>\n",
       "      <td>268.000000</td>\n",
       "      <td>378.500000</td>\n",
       "      <td>268.717928</td>\n",
       "      <td>378.182118</td>\n",
       "      <td>0.000000</td>\n",
       "    </tr>\n",
       "    <tr>\n",
       "      <th>50%</th>\n",
       "      <td>3086.000000</td>\n",
       "      <td>225.000000</td>\n",
       "      <td>66.272727</td>\n",
       "      <td>4.763642</td>\n",
       "      <td>362.500000</td>\n",
       "      <td>381.500000</td>\n",
       "      <td>364.366644</td>\n",
       "      <td>382.520143</td>\n",
       "      <td>0.000000</td>\n",
       "    </tr>\n",
       "    <tr>\n",
       "      <th>75%</th>\n",
       "      <td>3405.000000</td>\n",
       "      <td>228.000000</td>\n",
       "      <td>66.680563</td>\n",
       "      <td>180.000000</td>\n",
       "      <td>555.500000</td>\n",
       "      <td>389.500000</td>\n",
       "      <td>554.476266</td>\n",
       "      <td>390.034487</td>\n",
       "      <td>0.000000</td>\n",
       "    </tr>\n",
       "    <tr>\n",
       "      <th>max</th>\n",
       "      <td>7566.000000</td>\n",
       "      <td>607.000000</td>\n",
       "      <td>221.031784</td>\n",
       "      <td>180.000000</td>\n",
       "      <td>1234.000000</td>\n",
       "      <td>506.000000</td>\n",
       "      <td>1239.534487</td>\n",
       "      <td>511.534487</td>\n",
       "      <td>1.000000</td>\n",
       "    </tr>\n",
       "  </tbody>\n",
       "</table>\n",
       "</div>"
      ],
      "text/plain": [
       "             Frame       Car ID  Speed (km/hr)  Heading Angle   Position X  \\\n",
       "count  2169.000000  2169.000000    2169.000000    2169.000000  2169.000000   \n",
       "mean   3106.305671   224.580913      43.662148      43.945366   426.427847   \n",
       "std     741.368537    61.000824      27.351339     111.159498   243.155208   \n",
       "min    1157.000000    47.000000       0.000000    -175.236358    17.500000   \n",
       "25%    2788.000000   225.000000      16.465591       0.000000   268.000000   \n",
       "50%    3086.000000   225.000000      66.272727       4.763642   362.500000   \n",
       "75%    3405.000000   228.000000      66.680563     180.000000   555.500000   \n",
       "max    7566.000000   607.000000     221.031784     180.000000  1234.000000   \n",
       "\n",
       "        Position Y       Pred X       Pred Y       Output  \n",
       "count  2169.000000  2169.000000  2169.000000  2169.000000  \n",
       "mean    388.743430   426.483644   388.799227     0.108806  \n",
       "std      19.650826   243.082113    20.077108     0.311467  \n",
       "min     372.000000    12.651256   367.151256     0.000000  \n",
       "25%     378.500000   268.717928   378.182118     0.000000  \n",
       "50%     381.500000   364.366644   382.520143     0.000000  \n",
       "75%     389.500000   554.476266   390.034487     0.000000  \n",
       "max     506.000000  1239.534487   511.534487     1.000000  "
      ]
     },
     "execution_count": 10,
     "metadata": {},
     "output_type": "execute_result"
    }
   ],
   "source": [
    "data.describe()"
   ]
  },
  {
   "cell_type": "code",
   "execution_count": 55,
   "id": "82fa11c5-79b3-4cf6-bfc3-934f09c9967c",
   "metadata": {},
   "outputs": [],
   "source": [
    "\n",
    "data['speed'] = pd.to_numeric(data['Speed (km/hr)'], errors='coerce')\n",
    "data['angle'] = pd.to_numeric(data['Heading Angle'], errors='coerce')\n",
    "data['pos_x'] = pd.to_numeric(data['Position X'], errors='coerce')\n",
    "data['pos_y'] = pd.to_numeric(data['Position Y'], errors='coerce')\n",
    "data['output'] = pd.to_numeric(data['Output'], errors='coerce')\n",
    "\n"
   ]
  },
  {
   "cell_type": "code",
   "execution_count": 60,
   "id": "08e2af47-8e8d-4b5b-9f3b-ffc1c0c1d98a",
   "metadata": {},
   "outputs": [],
   "source": [
    "count = data['output'].eq(1)\n",
    "# count.describe()"
   ]
  },
  {
   "cell_type": "code",
   "execution_count": 63,
   "id": "6339ce66-6d3d-4dbe-9adb-0922702752d1",
   "metadata": {},
   "outputs": [
    {
     "name": "stdout",
     "output_type": "stream",
     "text": [
      "0      -3530.253031\n",
      "1       -713.284147\n",
      "2         20.401907\n",
      "3       2059.140488\n",
      "4        -10.785627\n",
      "           ...     \n",
      "2164     -29.744128\n",
      "2165       0.000000\n",
      "2166       0.000000\n",
      "2167    -925.737718\n",
      "2168    -342.193014\n",
      "Name: final, Length: 2169, dtype: float64\n"
     ]
    }
   ],
   "source": [
    "data['tan_column'] = data.apply(lambda row: math.tan(row['angle']), axis=1)\n",
    "data['final'] = data['pos_x'] * data['tan_column']\n",
    "# Print or use the new column\n",
    "print(data['final'])"
   ]
  },
  {
   "cell_type": "code",
   "execution_count": 65,
   "id": "590bd0e6-e0ae-4544-a5bb-6cc97985b1f6",
   "metadata": {},
   "outputs": [
    {
     "data": {
      "text/plain": [
       "[<matplotlib.lines.Line2D at 0x7fcdd8873160>]"
      ]
     },
     "execution_count": 65,
     "metadata": {},
     "output_type": "execute_result"
    },
    {
     "data": {
      "image/png": "[encoded data removed]",
      "text/plain": [
       "<Figure size 640x480 with 1 Axes>"
      ]
     },
     "metadata": {},
     "output_type": "display_data"
    }
   ],
   "source": [
    "plt.plot(data['final'],data['Output'],'*')"
   ]
  },
  {
   "cell_type": "code",
   "execution_count": 53,
   "id": "d9eb929e-d037-449e-899a-d5ba7d59fcdf",
   "metadata": {},
   "outputs": [
    {
     "ename": "TypeError",
     "evalue": "cannot convert the series to <class 'float'>",
     "output_type": "error",
     "traceback": [
      "\u001b[0;31m---------------------------------------------------------------------------\u001b[0m",
      "\u001b[0;31mTypeError\u001b[0m                                 Traceback (most recent call last)",
      "Cell \u001b[0;32mIn[53], line 1\u001b[0m\n\u001b[0;32m----> 1\u001b[0m \u001b[43mmath\u001b[49m\u001b[38;5;241;43m.\u001b[39;49m\u001b[43mtan\u001b[49m\u001b[43m(\u001b[49m\u001b[43mdata\u001b[49m\u001b[43m[\u001b[49m\u001b[38;5;124;43m'\u001b[39;49m\u001b[38;5;124;43mHeading Angle\u001b[39;49m\u001b[38;5;124;43m'\u001b[39;49m\u001b[43m]\u001b[49m\u001b[43m)\u001b[49m\n",
      "File \u001b[0;32m~/Library/jupyterlab-desktop/jlab_server/lib/python3.8/site-packages/pandas/core/series.py:206\u001b[0m, in \u001b[0;36m_coerce_method.<locals>.wrapper\u001b[0;34m(self)\u001b[0m\n\u001b[1;32m    204\u001b[0m \u001b[38;5;28;01mif\u001b[39;00m \u001b[38;5;28mlen\u001b[39m(\u001b[38;5;28mself\u001b[39m) \u001b[38;5;241m==\u001b[39m \u001b[38;5;241m1\u001b[39m:\n\u001b[1;32m    205\u001b[0m     \u001b[38;5;28;01mreturn\u001b[39;00m converter(\u001b[38;5;28mself\u001b[39m\u001b[38;5;241m.\u001b[39miloc[\u001b[38;5;241m0\u001b[39m])\n\u001b[0;32m--> 206\u001b[0m \u001b[38;5;28;01mraise\u001b[39;00m \u001b[38;5;167;01mTypeError\u001b[39;00m(\u001b[38;5;124mf\u001b[39m\u001b[38;5;124m\"\u001b[39m\u001b[38;5;124mcannot convert the series to \u001b[39m\u001b[38;5;132;01m{\u001b[39;00mconverter\u001b[38;5;132;01m}\u001b[39;00m\u001b[38;5;124m\"\u001b[39m)\n",
      "\u001b[0;31mTypeError\u001b[0m: cannot convert the series to <class 'float'>"
     ]
    }
   ],
   "source": []
  },
  {
   "cell_type": "code",
   "execution_count": null,
   "id": "c9575a80-b2fd-4cb4-a614-87fc000fba0f",
   "metadata": {},
   "outputs": [],
   "source": []
  }
 ],
 "metadata": {
  "kernelspec": {
   "display_name": "Python 3 (ipykernel)",
   "language": "python",
   "name": "python3"
  },
  "language_info": {
   "codemirror_mode": {
    "name": "ipython",
    "version": 3
   },
   "file_extension": ".py",
   "mimetype": "text/x-python",
   "name": "python",
   "nbconvert_exporter": "python",
   "pygments_lexer": "ipython3",
   "version": "3.8.15"
  }
 },
 "nbformat": 4,
 "nbformat_minor": 5
}
